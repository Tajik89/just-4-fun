{
 "cells": [
  {
   "cell_type": "code",
   "execution_count": 1,
   "id": "74a8fb82-25d9-408d-9e85-65d8333353bf",
   "metadata": {},
   "outputs": [],
   "source": [
    "import pandas as pd\n",
    "import matplotlib.pyplot as plt"
   ]
  },
  {
   "cell_type": "code",
   "execution_count": 2,
   "id": "777aa617-9ca9-4518-946c-6263732c09d2",
   "metadata": {},
   "outputs": [],
   "source": [
    "s = 'i love python'"
   ]
  },
  {
   "cell_type": "code",
   "execution_count": 3,
   "id": "d9819cb9-01c4-403f-907e-98b626044c1e",
   "metadata": {},
   "outputs": [],
   "source": [
    "char_history = []\n",
    "char_dict = {}\n",
    "for char in s :\n",
    "    char_counter = 0\n",
    "    if char in char_history :\n",
    "        continue\n",
    "    for char_cou in s :\n",
    "        if char_cou == char :\n",
    "            char_counter += 1\n",
    "    short_lst = [char_counter]\n",
    "    char_dict[char] = short_lst"
   ]
  },
  {
   "cell_type": "code",
   "execution_count": 4,
   "id": "9ce0de95-cb7a-4d43-8843-dec1fb763df0",
   "metadata": {},
   "outputs": [],
   "source": [
    "df = pd.DataFrame(char_dict)"
   ]
  },
  {
   "cell_type": "code",
   "execution_count": 5,
   "id": "e0b23058-2e2e-4d9a-910b-10b71f5e7823",
   "metadata": {},
   "outputs": [],
   "source": [
    "char_lst = []\n",
    "for char in char_dict :\n",
    "    char_lst.append(char)"
   ]
  },
  {
   "cell_type": "code",
   "execution_count": 11,
   "id": "85b3aaaf-4049-4da9-9a6e-ae8dea2ebae4",
   "metadata": {},
   "outputs": [],
   "source": [
    "num_lst = []\n",
    "for num in char_dict.values() :\n",
    "    for nm in num :\n",
    "        num_lst.append(nm)"
   ]
  },
  {
   "cell_type": "code",
   "execution_count": 8,
   "id": "2d1920bc-22a1-4997-a25f-c9d9e9659228",
   "metadata": {},
   "outputs": [
    {
     "data": {
      "text/html": [
       "<div>\n",
       "<style scoped>\n",
       "    .dataframe tbody tr th:only-of-type {\n",
       "        vertical-align: middle;\n",
       "    }\n",
       "\n",
       "    .dataframe tbody tr th {\n",
       "        vertical-align: top;\n",
       "    }\n",
       "\n",
       "    .dataframe thead th {\n",
       "        text-align: right;\n",
       "    }\n",
       "</style>\n",
       "<table border=\"1\" class=\"dataframe\">\n",
       "  <thead>\n",
       "    <tr style=\"text-align: right;\">\n",
       "      <th></th>\n",
       "      <th>i</th>\n",
       "      <th></th>\n",
       "      <th>l</th>\n",
       "      <th>o</th>\n",
       "      <th>v</th>\n",
       "      <th>e</th>\n",
       "      <th>p</th>\n",
       "      <th>y</th>\n",
       "      <th>t</th>\n",
       "      <th>h</th>\n",
       "      <th>n</th>\n",
       "    </tr>\n",
       "  </thead>\n",
       "  <tbody>\n",
       "    <tr>\n",
       "      <th>0</th>\n",
       "      <td>1</td>\n",
       "      <td>2</td>\n",
       "      <td>1</td>\n",
       "      <td>2</td>\n",
       "      <td>1</td>\n",
       "      <td>1</td>\n",
       "      <td>1</td>\n",
       "      <td>1</td>\n",
       "      <td>1</td>\n",
       "      <td>1</td>\n",
       "      <td>1</td>\n",
       "    </tr>\n",
       "  </tbody>\n",
       "</table>\n",
       "</div>"
      ],
      "text/plain": [
       "   i     l  o  v  e  p  y  t  h  n\n",
       "0  1  2  1  2  1  1  1  1  1  1  1"
      ]
     },
     "execution_count": 8,
     "metadata": {},
     "output_type": "execute_result"
    }
   ],
   "source": [
    "df"
   ]
  },
  {
   "cell_type": "code",
   "execution_count": 9,
   "id": "f7c2bf3f-e1f1-43cc-ad4a-7f6c94bebc32",
   "metadata": {},
   "outputs": [
    {
     "data": {
      "text/plain": [
       "['i', ' ', 'l', 'o', 'v', 'e', 'p', 'y', 't', 'h', 'n']"
      ]
     },
     "execution_count": 9,
     "metadata": {},
     "output_type": "execute_result"
    }
   ],
   "source": [
    "char_lst"
   ]
  },
  {
   "cell_type": "code",
   "execution_count": 12,
   "id": "34886c7d-d5a5-4415-858c-89706c1bdf22",
   "metadata": {},
   "outputs": [
    {
     "data": {
      "text/plain": [
       "[1, 2, 1, 2, 1, 1, 1, 1, 1, 1, 1]"
      ]
     },
     "execution_count": 12,
     "metadata": {},
     "output_type": "execute_result"
    }
   ],
   "source": [
    "num_lst"
   ]
  },
  {
   "cell_type": "code",
   "execution_count": 13,
   "id": "91ab7c96-dd08-4e95-81f9-faad15d8b378",
   "metadata": {},
   "outputs": [
    {
     "data": {
      "text/plain": [
       "<BarContainer object of 11 artists>"
      ]
     },
     "execution_count": 13,
     "metadata": {},
     "output_type": "execute_result"
    },
    {
     "data": {
      "image/png": "[encoded data removed]",
      "text/plain": [
       "<Figure size 640x480 with 1 Axes>"
      ]
     },
     "metadata": {},
     "output_type": "display_data"
    }
   ],
   "source": [
    "plt.bar(char_lst, num_lst)"
   ]
  },
  {
   "cell_type": "code",
   "execution_count": 14,
   "id": "54ef8a38-2487-4e2d-9c3a-572f68fd5a43",
   "metadata": {},
   "outputs": [],
   "source": [
    "#"
   ]
  },
  {
   "cell_type": "code",
   "execution_count": null,
   "id": "c740220a-95e1-48d5-9549-20e3185dfeef",
   "metadata": {},
   "outputs": [],
   "source": [
    "# This exercise is so easy ...\n",
    "# ... Linus torvalds : \" Just for fun \"\n",
    "# I write this science to say :\n",
    "# just do it, but it so easy or cheap !.."
   ]
  },
  {
   "cell_type": "code",
   "execution_count": null,
   "id": "0cc98077-b080-48b7-b391-89b05366424b",
   "metadata": {},
   "outputs": [],
   "source": [
    "# <-- Write By TAKING -->\n",
    "# Github : Tajik89\n",
    "# tajik89.github.io"
   ]
  }
 ],
 "metadata": {
  "kernelspec": {
   "display_name": "Python 3 (ipykernel)",
   "language": "python",
   "name": "python3"
  },
  "language_info": {
   "codemirror_mode": {
    "name": "ipython",
    "version": 3
   },
   "file_extension": ".py",
   "mimetype": "text/x-python",
   "name": "python",
   "nbconvert_exporter": "python",
   "pygments_lexer": "ipython3",
   "version": "3.10.12"
  }
 },
 "nbformat": 4,
 "nbformat_minor": 5
}
